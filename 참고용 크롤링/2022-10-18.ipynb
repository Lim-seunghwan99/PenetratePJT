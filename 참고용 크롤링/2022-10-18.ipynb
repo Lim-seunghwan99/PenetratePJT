{
 "cells": [
  {
   "cell_type": "code",
   "execution_count": 1,
   "id": "442e61d5",
   "metadata": {
    "scrolled": true
   },
   "outputs": [],
   "source": [
    "from selenium import webdriver\n",
    "from selenium.webdriver.chrome.service import Service\n",
    "from webdriver_manager.chrome import ChromeDriverManager\n",
    "from bs4 import BeautifulSoup\n",
    "import time\n",
    "from selenium.webdriver.common.by import By\n",
    "from selenium.webdriver.common.keys import Keys\n",
    "import pandas as pd"
   ]
  },
  {
   "cell_type": "code",
   "execution_count": 2,
   "id": "e0c6682e",
   "metadata": {},
   "outputs": [],
   "source": [
    "from selenium import webdriver\n",
    "wd = webdriver.Chrome('chromedriver_win32/chromedriver.exe')"
   ]
  },
  {
   "cell_type": "code",
   "execution_count": 3,
   "id": "5e4c5359",
   "metadata": {
    "scrolled": true
   },
   "outputs": [],
   "source": [
    "#driver = webdriver.Chrome(service=Service(ChromeDriverManager().install()))\n",
    "url = 'https://www.google.com/'\n",
    "#driver.get(url)\n",
    "#print(driver.page_source)"
   ]
  },
  {
   "cell_type": "code",
   "execution_count": 4,
   "id": "06bed908",
   "metadata": {},
   "outputs": [],
   "source": [
    "result = []"
   ]
  },
  {
   "cell_type": "markdown",
   "id": "b842c568",
   "metadata": {},
   "source": [
    "# selenium = url이 바뀌지 않는 코드 크롤링 하기 위해서 사용"
   ]
  },
  {
   "cell_type": "code",
   "execution_count": 5,
   "id": "afc4df99",
   "metadata": {},
   "outputs": [],
   "source": [
    "wd = webdriver.Chrome('chromedriver_win32/chromedriver.exe')\n",
    "wd.get(\"https://www.coffeebeankorea.com/store/store.asp\")\n",
    "#print(wd.page_source) #이 데이터를 beautiful soup으로 다시 파싱한다"
   ]
  },
  {
   "cell_type": "code",
   "execution_count": 6,
   "id": "4955352f",
   "metadata": {},
   "outputs": [
    {
     "name": "stdout",
     "output_type": "stream",
     "text": [
      "삼성봉은사거리점\n"
     ]
    }
   ],
   "source": [
    "wd.execute_script('storePop2(31)')\n",
    "time.sleep(1)\n",
    "html = wd.page_source\n",
    "soupCB = BeautifulSoup(html, 'html.parser')\n",
    "title = soupCB.select('div.store_txt > h2')[0].string\n",
    "print(title)"
   ]
  },
  {
   "cell_type": "code",
   "execution_count": 7,
   "id": "7121328f",
   "metadata": {},
   "outputs": [
    {
     "name": "stdout",
     "output_type": "stream",
     "text": [
      "list index out of range\n",
      "list index out of range\n",
      "list index out of range\n",
      "list index out of range\n",
      "list index out of range\n",
      "list index out of range\n",
      "list index out of range\n",
      "list index out of range\n",
      "list index out of range\n",
      "list index out of range\n",
      "list index out of range\n",
      "list index out of range\n",
      "list index out of range\n",
      "list index out of range\n",
      "list index out of range\n",
      "list index out of range\n",
      "list index out of range\n",
      "list index out of range\n",
      "[['삼성봉은사거리점', '서울시 강남구 영동대로 607 1,2층  ', '02-3443-5618']]\n"
     ]
    }
   ],
   "source": [
    "title = soupCB.select('div.store_txt > h2')[0].string\n",
    "#print(soupCB.select('div.store_txt > table.store_table > tbody'))\n",
    "addr = list(soupCB.select('div.store_txt > table.store_table > tbody > tr > td')[2])[0]\n",
    "phone = soupCB.select('div.store_txt > table.store_table > tbody > tr > td')[3].string\n",
    "\n",
    "#print(title, addr, phone)\n",
    "\n",
    "for i in range(1, 20) :\n",
    "    time.sleep(1)\n",
    "    try :\n",
    "        wd.execute_script('storePop2(%d)' %i)\n",
    "        html = wd.page_source\n",
    "        soupCB = BeautifulSoup(html, 'html.parser')\n",
    "        title = soupCB.select('div.store_txt > h2')[0].string\n",
    "        addr = list(soupCB.select('div.store_txt > table.store_table > tbody > tr > td')[2])[0]\n",
    "        phone = soupCB.select('div.store_txt > table.store_table > tbody > tr > td')[3].string\n",
    "        wd.find_element(By.ID, 'closeBtn1ActiveBtn').send_keys(Keys.ENTER)    \n",
    "        result.append([title, addr, phone])\n",
    "    except Exception as e:\n",
    "        time.sleep(1)\n",
    "        wd.get(\"https://www.coffeebeankorea.com/store/store.asp\")\n",
    "        print (e)\n",
    "print(result)\n",
    "\n",
    "df = pd.DataFrame(result)\n",
    "df.to_csv('2022-10-18')\n",
    "#  중복적으로 검색하면 오류나서 닫기버튼을 인위적으로 넣는다"
   ]
  },
  {
   "cell_type": "code",
   "execution_count": 8,
   "id": "48354b21",
   "metadata": {},
   "outputs": [
    {
     "name": "stdout",
     "output_type": "stream",
     "text": [
      "삼성봉은사거리점34m\n"
     ]
    }
   ],
   "source": [
    "print(soupCB.select('div.store_txt > p >span')[0].text)\n",
    "#print(soupCB.select('div.store_txt'))"
   ]
  },
  {
   "cell_type": "code",
   "execution_count": null,
   "id": "643050f4",
   "metadata": {},
   "outputs": [],
   "source": []
  }
 ],
 "metadata": {
  "kernelspec": {
   "display_name": "Python 3 (ipykernel)",
   "language": "python",
   "name": "python3"
  },
  "language_info": {
   "codemirror_mode": {
    "name": "ipython",
    "version": 3
   },
   "file_extension": ".py",
   "mimetype": "text/x-python",
   "name": "python",
   "nbconvert_exporter": "python",
   "pygments_lexer": "ipython3",
   "version": "3.9.12"
  }
 },
 "nbformat": 4,
 "nbformat_minor": 5
}
